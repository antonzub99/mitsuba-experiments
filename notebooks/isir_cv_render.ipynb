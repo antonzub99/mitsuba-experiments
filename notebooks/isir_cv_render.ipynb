{
 "cells": [
  {
   "cell_type": "code",
   "execution_count": 1,
   "metadata": {},
   "outputs": [
    {
     "name": "stdout",
     "output_type": "stream",
     "text": [
      "['scalar_rgb', 'scalar_spectral', 'cuda_ad_rgb', 'llvm_ad_rgb']\n"
     ]
    }
   ],
   "source": [
    "%load_ext autoreload\n",
    "%autoreload 2\n",
    "\n",
    "from pathlib import Path\n",
    "import os\n",
    "import sys\n",
    "import numpy as np\n",
    "import matplotlib.pyplot as plt\n",
    "import time\n",
    "\n",
    "import mitsuba as mi\n",
    "import drjit as dr\n",
    "\n",
    "print(mi.variants())\n",
    "os.environ['VARIANT'] = 'llvm_ad_rgb'\n",
    "\n",
    "sys.path.append('..')\n",
    "\n",
    "from ris_render.integrators.isir_integrator import ISIRIntegrator\n",
    "from ris_render.integrators.custom_direct import RISIntegrator"
   ]
  },
  {
   "cell_type": "code",
   "execution_count": 2,
   "metadata": {},
   "outputs": [],
   "source": [
    "root_path = Path().cwd().parent"
   ]
  },
  {
   "cell_type": "code",
   "execution_count": 3,
   "metadata": {},
   "outputs": [],
   "source": [
    "from ris_render.integrators.control_variate import PolyControlVariate"
   ]
  },
  {
   "cell_type": "code",
   "execution_count": 10,
   "metadata": {},
   "outputs": [],
   "source": [
    "import numpy as np\n",
    "import jax.numpy as jnp\n",
    "from jax import grad, jit, vmap\n",
    "from jax import random\n",
    "\n",
    "\n",
    "def get_multiindex_2d(degree):\n",
    "    multiindex = []\n",
    "    for d in range(degree + 1):\n",
    "        ar = np.arange(d + 1)\n",
    "        multiindex.extend(list(zip(ar, d - ar)))\n",
    "        \n",
    "    return np.array(multiindex)\n",
    "\n",
    "\n",
    "class Poly:\n",
    "    def __init__(self, spatial_size: int, dim: int = 2, degree: int = 1):\n",
    "        self.spatial_size = spatial_size\n",
    "        self.dim = dim\n",
    "        if dim != 2:\n",
    "            raise NotemplementedError\n",
    "        self.multiindex = get_multiindex_2d(degree)[1:]\n",
    "        self.degree = degree\n",
    "        self.ones = np.ones((spatial_size, len(self.multiindex)))\n",
    "        \n",
    "    def feature(self, sample):\n",
    "        assert sample.shape == (self.spatial_size, self.dim), sample.shape\n",
    "        feature = jnp.expand_dims(sample, 1).repeat(len(self.multiindex), 1)\n",
    "        feature = feature ** self.multiindex[None, :]\n",
    "        return feature\n",
    "        \n",
    "    def forward(self, sample):\n",
    "        feature = self.feature(sample)\n",
    "        return jnp.einsum('ab,ab->a', self.ones, feature.prod(-1))\n",
    "    \n",
    "    def __cal__(self, sample):\n",
    "        return self.forward(sample)\n",
    "    \n",
    "    @property\n",
    "    def grad(self):\n",
    "        return grad(lambda x: jnp.einsum('ab,ab->a', self.ones, x.prod(-1)).sum())\n",
    "    \n",
    "    @property\n",
    "    def div(self):\n",
    "        return lambda y: np.stack([\n",
    "            grad(lambda x: self.grad(x)[..., 0].sum())(y)[..., 0], \n",
    "            grad(lambda x: self.grad(x)[..., 1].sum())(y)[..., 1]\n",
    "        ], -1)\n",
    "\n",
    "    \n",
    "class PolyControlVariate:\n",
    "    def __init__(self, spatial_size: int, dim: int = 2, degree: int = 1):\n",
    "        self.spatial_size = spatial_size\n",
    "        self.dim = dim\n",
    "        self.degree = degree\n",
    "        self.poly = Poly(spatial_size, dim, degree)\n",
    "        self.cov = jnp.zeros((spatial_size, len(self.poly.multiindex), len(self.poly.multiindex)))\n",
    "        self.mean = jnp.zeros((spatial_size, len(self.poly.multiindex), 3))\n",
    "        self.n = 0\n",
    "        self.param = np.zeros((spatial_size, len(self.poly.multiindex), 3))\n",
    "        \n",
    "#     def update(self, sample, score, value):\n",
    "#         value = jnp.array(value)\n",
    "#         score = jnp.array(score)\n",
    "#         feature = self.poly.feature(sample)\n",
    "#         grad = \n",
    "#         # feature = self.feature(sample, score)\n",
    "#         # self.mean = (self.n * self.mean - feature[..., None] * value[:, None, :]) / (self.n + 1)\n",
    "        \n",
    "#         self.mean = (self.n * self.mean - score[..., None] * value[:, None, :]) / (self.n + 1)\n",
    "#         self.cov = ((self.n) * self.cov + np.einsum('ab,ac->abc', score, score)) / (self.n + 1)\n",
    "#         self.n += 1\n",
    "\n",
    "    def b(self, sample, score):\n",
    "        score = jnp.array(score)\n",
    "        sample = jnp.array(sample)\n",
    "        feature = self.poly.feature(sample)\n",
    "        dot = (self.poly.grad(feature) * score[:, None, :]).sum(-1)\n",
    "        div = self.poly.div(feature).sum(-1)\n",
    "        res = div + dot\n",
    "        return res\n",
    "\n",
    "    def set_mean(self, bs, vals):\n",
    "        self.mean = ((bs - bs.mean(0)[None, ...])[..., None] * (vals - vals.mean(0)[None, ...])[..., None, :]).mean(0)\n",
    "        \n",
    "    def set_cov(self, bs):\n",
    "        c = (bs - bs.mean(0)[None, ...])\n",
    "        self.cov = np.einsum('abc,abd->abcd', c, c).mean(0)\n",
    "        \n",
    "    def set_param(self):\n",
    "        inv_cov = np.linalg.pinv(self.cov, rcond=1e-5) # well...\n",
    "        self.param = np.einsum('abc,abd->acd', inv_cov, self.mean)\n",
    "    \n",
    "    def forward(self, sample, score):\n",
    "        b = self.b(sample, score)\n",
    "        return np.einsum('abc,ab->ac', self.param, b) * 0.01\n",
    "    \n",
    "    def __call__(self, sample, score):\n",
    "        return self.forward(sample, score)\n",
    "    \n",
    "        "
   ]
  },
  {
   "cell_type": "code",
   "execution_count": 11,
   "metadata": {},
   "outputs": [
    {
     "name": "stdout",
     "output_type": "stream",
     "text": [
      "cornell-box\n"
     ]
    },
    {
     "name": "stderr",
     "output_type": "stream",
     "text": [
      "100%|██████████| 10/10 [00:18<00:00,  1.83s/it]\n",
      "/tmp/ipykernel_14152/975793181.py:38: RuntimeWarning: invalid value encountered in power\n",
      "  plt.imshow(np.array(x) ** (1. / 2.2))\n",
      "WARNING:matplotlib.image:Clipping input data to the valid range for imshow with RGB data ([0..1] for floats or [0..255] for integers).\n"
     ]
    },
    {
     "name": "stdout",
     "output_type": "stream",
     "text": [
      "34.9980160970008\n"
     ]
    },
    {
     "data": {
      "image/png": "[encoded data removed]",
      "text/plain": [
       "<Figure size 432x288 with 1 Axes>"
      ]
     },
     "metadata": {
      "needs_background": "light"
     },
     "output_type": "display_data"
    }
   ],
   "source": [
    "N_PARTICLES = 5\n",
    "WEIGHT_POPULATION = False\n",
    "AVG_CHAIN = True\n",
    "STEPS = 10 #20\n",
    "\n",
    "DIM = 2\n",
    "POLY_DEGREE = 2\n",
    "    \n",
    "trg_dir = Path('../isir_results')\n",
    "trg_dir.mkdir(exist_ok=True)\n",
    "for path in Path(root_path, \"scenes\").glob('*'):\n",
    "    if path.stem != 'cornell-box':\n",
    "        continue\n",
    "    if path.stem in ('teapot', 'dragon', 'veach-ajar'):\n",
    "        continue\n",
    "    print(path.stem)\n",
    "    try:\n",
    "        scene = mi.load_file(Path(path, \"scene.xml\").as_posix())\n",
    "    except:\n",
    "        continue\n",
    "    wavefront_size = np.prod(mi.traverse(scene)['PerspectiveCamera.film.size'])\n",
    "    \n",
    "    props = mi.Properties()\n",
    "    props['emitter_samples'] = STEPS\n",
    "    props['bsdf_samples'] = 0\n",
    "\n",
    "    cv = PolyControlVariate(wavefront_size, DIM, POLY_DEGREE)\n",
    "    integrator = ISIRIntegrator(props, n_particles=N_PARTICLES, weight_population=WEIGHT_POPULATION, avg_chain=AVG_CHAIN, cv=cv)\n",
    "    \n",
    "    start = time.perf_counter()\n",
    "    img_scene = mi.render(scene, integrator=integrator, spp=1)\n",
    "    \n",
    "    x = mi.Bitmap(img_scene)\n",
    "    elapsed = time.perf_counter() - start\n",
    "    print(elapsed)\n",
    "    \n",
    "    \n",
    "    plt.imshow(np.array(x) ** (1. / 2.2))\n",
    "    plt.axis(\"off\")\n",
    "    plt.savefig(Path(trg_dir, f'{path.stem}_isir_{N_PARTICLES}p_{STEPS}s.png'))\n",
    "    \n",
    "    \n",
    "    # props = mi.Properties()\n",
    "    # props['emitter_samples'] = STEPS\n",
    "    # props['bsdf_samples'] = 0\n",
    "\n",
    "    # integrator = ISIRIntegrator(props, n_particles=N_PARTICLES, weight_population=False, avg_chain=True)\n",
    "\n",
    "    # start = time.perf_counter()\n",
    "    # img_scene = mi.render(scene, integrator=integrator, spp=1)\n",
    "    # x = mi.Bitmap(img_scene)\n",
    "    # elapsed = time.perf_counter() - start\n",
    "    # print(elapsed)\n",
    "    \n",
    "    \n",
    "    # plt.imshow(np.array(x) ** (1. / 2.2))\n",
    "    # plt.axis(\"off\")\n",
    "    # plt.savefig(Path(trg_dir, f'{path.stem}_isir_{N_PARTICLES}p_{STEPS}s_avg.png'))\n",
    "    \n",
    "    \n",
    "    # props = mi.Properties()\n",
    "    # props['emitter_samples'] = STEPS\n",
    "    # props['bsdf_samples'] = 0\n",
    "\n",
    "    # integrator = ISIRIntegrator(props, n_particles=N_PARTICLES, weight_population=True, avg_chain=True)\n",
    "\n",
    "    # start = time.perf_counter()\n",
    "    # img_scene = mi.render(scene, integrator=integrator, spp=1)\n",
    "    # x = mi.Bitmap(img_scene)\n",
    "    # elapsed = time.perf_counter() - start\n",
    "    # print(elapsed)\n",
    "    \n",
    "    \n",
    "    # plt.imshow(np.array(x) ** (1. / 2.2))\n",
    "    # plt.axis(\"off\")\n",
    "    # plt.savefig(Path(trg_dir, f'{path.stem}_isir_{N_PARTICLES}p_{STEPS}s_avg_rao.png'))\n",
    "    \n",
    "    \n",
    "#     props = mi.Properties()\n",
    "#     props['emitter_samples'] = STEPS * N_PARTICLES\n",
    "#     props['bsdf_samples'] = 0\n",
    "\n",
    "#     integrator = RISIntegrator(props)\n",
    "\n",
    "#     start = time.perf_counter()\n",
    "#     img_scene = mi.render(scene, integrator=integrator, spp=1)\n",
    "#     x = mi.Bitmap(img_scene)\n",
    "#     elapsed = time.perf_counter() - start\n",
    "#     print(elapsed)\n",
    "\n",
    "#     plt.imshow(np.array(x) ** (1. / 2.2))\n",
    "#     plt.axis(\"off\")\n",
    "#     plt.savefig(Path(trg_dir, f'{path.stem}_ris_{STEPS * N_PARTICLES}s.png'))\n",
    "    \n",
    "#     props = mi.Properties()\n",
    "#     props['emitter_samples'] = STEPS\n",
    "#     props['bsdf_samples'] = 0\n",
    "\n",
    "#     integrator = RISIntegrator(props)\n",
    "\n",
    "#     start = time.perf_counter()\n",
    "#     img_scene = mi.render(scene, integrator=integrator, spp=1)\n",
    "#     x = mi.Bitmap(img_scene)\n",
    "#     elapsed = time.perf_counter() - start\n",
    "#     print(elapsed)\n",
    "\n",
    "#     plt.imshow(np.array(x) ** (1. / 2.2))\n",
    "#     plt.axis(\"off\")\n",
    "#     plt.savefig(Path(trg_dir, f'{path.stem}_ris_{STEPS}s.png'))\n",
    "    \n",
    "#     props = mi.Properties()\n",
    "#     props['emitter_samples'] = STEPS\n",
    "#     props['bsdf_samples'] = 0\n",
    "\n",
    "#     integrator = RISIntegrator(props)\n",
    "\n",
    "#     start = time.perf_counter()\n",
    "#     img_scene = mi.render(scene, integrator=integrator, spp=STEPS)\n",
    "#     x = mi.Bitmap(img_scene)\n",
    "#     elapsed = time.perf_counter() - start\n",
    "#     print(elapsed)\n",
    "\n",
    "#     plt.imshow(np.array(x) ** (1. / 2.2))\n",
    "#     plt.axis(\"off\")\n",
    "#     plt.savefig(Path(trg_dir, f'{path.stem}_ris_{STEPS}s_{STEPS}spp.png'))\n",
    "#     plt.close()\n",
    "\n",
    "    break"
   ]
  },
  {
   "cell_type": "code",
   "execution_count": 12,
   "metadata": {},
   "outputs": [
    {
     "data": {
      "text/plain": [
       "-13.7269745"
      ]
     },
     "execution_count": 12,
     "metadata": {},
     "output_type": "execute_result"
    }
   ],
   "source": [
    "cv.param.min()"
   ]
  },
  {
   "cell_type": "code",
   "execution_count": null,
   "metadata": {},
   "outputs": [],
   "source": []
  },
  {
   "cell_type": "code",
   "execution_count": null,
   "metadata": {},
   "outputs": [],
   "source": []
  }
 ],
 "metadata": {
  "kernelspec": {
   "display_name": "Python 3.8.0 ('mitsuba')",
   "language": "python",
   "name": "python3"
  },
  "language_info": {
   "codemirror_mode": {
    "name": "ipython",
    "version": 3
   },
   "file_extension": ".py",
   "mimetype": "text/x-python",
   "name": "python",
   "nbconvert_exporter": "python",
   "pygments_lexer": "ipython3",
   "version": "3.8.0"
  },
  "orig_nbformat": 4,
  "vscode": {
   "interpreter": {
    "hash": "fa5511f57893cf02f81263c929721793a78ece64a39935acd3cf636c53ed1e11"
   }
  }
 },
 "nbformat": 4,
 "nbformat_minor": 2
}
