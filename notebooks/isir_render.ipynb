{
 "cells": [
  {
   "cell_type": "code",
   "execution_count": 1,
   "metadata": {},
   "outputs": [
    {
     "name": "stdout",
     "output_type": "stream",
     "text": [
      "['scalar_rgb', 'scalar_spectral', 'cuda_ad_rgb', 'llvm_ad_rgb']\n"
     ]
    }
   ],
   "source": [
    "%load_ext autoreload\n",
    "%autoreload 2\n",
    "\n",
    "from pathlib import Path\n",
    "import os\n",
    "import sys\n",
    "import numpy as np\n",
    "import matplotlib.pyplot as plt\n",
    "import time\n",
    "\n",
    "import mitsuba as mi\n",
    "import drjit as dr\n",
    "\n",
    "print(mi.variants())\n",
    "os.environ['VARIANT'] = 'llvm_ad_rgb'\n",
    "\n",
    "sys.path.append('..')\n",
    "\n",
    "from ris_render.integrators.isir_integrator import ISIRIntegrator\n",
    "from ris_render.integrators.custom_direct import RISIntegrator"
   ]
  },
  {
   "cell_type": "code",
   "execution_count": 2,
   "metadata": {},
   "outputs": [],
   "source": [
    "root_path = Path().cwd().parent"
   ]
  },
  {
   "cell_type": "code",
   "execution_count": 3,
   "metadata": {},
   "outputs": [
    {
     "name": "stderr",
     "output_type": "stream",
     "text": [
      "../ris_render/integrators/isir_integrator.py:52: UserWarning: BSDF sampler is not implemented, setting 'bsdf_samples' to 0.\n",
      "  warnings.warn(\"BSDF sampler is not implemented, setting 'bsdf_samples' to 0.\")\n"
     ]
    },
    {
     "name": "stdout",
     "output_type": "stream",
     "text": [
      "veach-mis\n"
     ]
    },
    {
     "name": "stderr",
     "output_type": "stream",
     "text": [
      "100%|███████████████████████████████████████████| 10/10 [00:06<00:00,  1.47it/s]\n",
      "Clipping input data to the valid range for imshow with RGB data ([0..1] for floats or [0..255] for integers).\n"
     ]
    },
    {
     "name": "stdout",
     "output_type": "stream",
     "text": [
      "7.65188903499984\n"
     ]
    },
    {
     "name": "stderr",
     "output_type": "stream",
     "text": [
      "../ris_render/integrators/isir_integrator.py:63: UserWarning: The estimate may be biased if chain is not stationary, consider setting 'weight_population' to True\n",
      "  warnings.warn(\"The estimate may be biased if chain is not stationary, consider setting 'weight_population' to True\")\n",
      "100%|██████████████████████████████████████████████████████████████████████████████████████████████████████████████████████████████████████████████████████████████████████████████| 10/10 [00:06<00:00,  1.51it/s]\n",
      "Clipping input data to the valid range for imshow with RGB data ([0..1] for floats or [0..255] for integers).\n"
     ]
    },
    {
     "name": "stdout",
     "output_type": "stream",
     "text": [
      "7.527653508000185\n"
     ]
    },
    {
     "name": "stderr",
     "output_type": "stream",
     "text": [
      "Clipping input data to the valid range for imshow with RGB data ([0..1] for floats or [0..255] for integers).\n"
     ]
    },
    {
     "name": "stdout",
     "output_type": "stream",
     "text": [
      "0.5709830840000905\n"
     ]
    },
    {
     "name": "stderr",
     "output_type": "stream",
     "text": [
      "Clipping input data to the valid range for imshow with RGB data ([0..1] for floats or [0..255] for integers).\n"
     ]
    },
    {
     "name": "stdout",
     "output_type": "stream",
     "text": [
      "0.2068260360001659\n"
     ]
    },
    {
     "name": "stderr",
     "output_type": "stream",
     "text": [
      "Clipping input data to the valid range for imshow with RGB data ([0..1] for floats or [0..255] for integers).\n"
     ]
    },
    {
     "name": "stdout",
     "output_type": "stream",
     "text": [
      "1.2656223189997036\n",
      "matpreview\n",
      "staircase\n"
     ]
    },
    {
     "name": "stderr",
     "output_type": "stream",
     "text": [
      "100%|██████████████████████████████████████████████████████████████████████████████████████████████████████████████████████████████████████████████████████████████████████████████| 10/10 [00:33<00:00,  3.33s/it]\n",
      "Clipping input data to the valid range for imshow with RGB data ([0..1] for floats or [0..255] for integers).\n"
     ]
    },
    {
     "name": "stdout",
     "output_type": "stream",
     "text": [
      "35.226008376999744\n"
     ]
    },
    {
     "name": "stderr",
     "output_type": "stream",
     "text": [
      "100%|██████████████████████████████████████████████████████████████████████████████████████████████████████████████████████████████████████████████████████████████████████████████| 10/10 [00:34<00:00,  3.47s/it]\n",
      "Clipping input data to the valid range for imshow with RGB data ([0..1] for floats or [0..255] for integers).\n"
     ]
    },
    {
     "name": "stdout",
     "output_type": "stream",
     "text": [
      "37.833396256000015\n"
     ]
    },
    {
     "name": "stderr",
     "output_type": "stream",
     "text": [
      "Clipping input data to the valid range for imshow with RGB data ([0..1] for floats or [0..255] for integers).\n"
     ]
    },
    {
     "name": "stdout",
     "output_type": "stream",
     "text": [
      "2.5431625090000125\n"
     ]
    },
    {
     "name": "stderr",
     "output_type": "stream",
     "text": [
      "Clipping input data to the valid range for imshow with RGB data ([0..1] for floats or [0..255] for integers).\n"
     ]
    },
    {
     "name": "stdout",
     "output_type": "stream",
     "text": [
      "0.7614859159998559\n"
     ]
    },
    {
     "name": "stderr",
     "output_type": "stream",
     "text": [
      "Clipping input data to the valid range for imshow with RGB data ([0..1] for floats or [0..255] for integers).\n"
     ]
    },
    {
     "name": "stdout",
     "output_type": "stream",
     "text": [
      "3.485434043999703\n",
      "veach-bidir\n"
     ]
    },
    {
     "name": "stderr",
     "output_type": "stream",
     "text": [
      "100%|██████████████████████████████████████████████████████████████████████████████████████████████████████████████████████████████████████████████████████████████████████████████| 10/10 [00:12<00:00,  1.25s/it]\n",
      "Clipping input data to the valid range for imshow with RGB data ([0..1] for floats or [0..255] for integers).\n"
     ]
    },
    {
     "name": "stdout",
     "output_type": "stream",
     "text": [
      "13.478872957000021\n"
     ]
    },
    {
     "name": "stderr",
     "output_type": "stream",
     "text": [
      "100%|██████████████████████████████████████████████████████████████████████████████████████████████████████████████████████████████████████████████████████████████████████████████| 10/10 [00:12<00:00,  1.22s/it]\n",
      "Clipping input data to the valid range for imshow with RGB data ([0..1] for floats or [0..255] for integers).\n"
     ]
    },
    {
     "name": "stdout",
     "output_type": "stream",
     "text": [
      "13.90208021000035\n"
     ]
    },
    {
     "name": "stderr",
     "output_type": "stream",
     "text": [
      "Clipping input data to the valid range for imshow with RGB data ([0..1] for floats or [0..255] for integers).\n"
     ]
    },
    {
     "name": "stdout",
     "output_type": "stream",
     "text": [
      "1.148878343999968\n"
     ]
    },
    {
     "name": "stderr",
     "output_type": "stream",
     "text": [
      "Clipping input data to the valid range for imshow with RGB data ([0..1] for floats or [0..255] for integers).\n"
     ]
    },
    {
     "name": "stdout",
     "output_type": "stream",
     "text": [
      "0.23349752400008583\n"
     ]
    },
    {
     "name": "stderr",
     "output_type": "stream",
     "text": [
      "Clipping input data to the valid range for imshow with RGB data ([0..1] for floats or [0..255] for integers).\n"
     ]
    },
    {
     "name": "stdout",
     "output_type": "stream",
     "text": [
      "1.8933323940000264\n",
      "cornell-box\n"
     ]
    },
    {
     "name": "stderr",
     "output_type": "stream",
     "text": [
      "100%|██████████████████████████████████████████████████████████████████████████████████████████████████████████████████████████████████████████████████████████████████████████████| 10/10 [00:09<00:00,  1.06it/s]\n",
      "Clipping input data to the valid range for imshow with RGB data ([0..1] for floats or [0..255] for integers).\n"
     ]
    },
    {
     "name": "stdout",
     "output_type": "stream",
     "text": [
      "10.034021917000246\n"
     ]
    },
    {
     "name": "stderr",
     "output_type": "stream",
     "text": [
      "100%|██████████████████████████████████████████████████████████████████████████████████████████████████████████████████████████████████████████████████████████████████████████████| 10/10 [00:10<00:00,  1.03s/it]\n",
      "Clipping input data to the valid range for imshow with RGB data ([0..1] for floats or [0..255] for integers).\n"
     ]
    },
    {
     "name": "stdout",
     "output_type": "stream",
     "text": [
      "11.498857181999938\n"
     ]
    },
    {
     "name": "stderr",
     "output_type": "stream",
     "text": [
      "Clipping input data to the valid range for imshow with RGB data ([0..1] for floats or [0..255] for integers).\n"
     ]
    },
    {
     "name": "stdout",
     "output_type": "stream",
     "text": [
      "0.8406587849999596\n"
     ]
    },
    {
     "name": "stderr",
     "output_type": "stream",
     "text": [
      "Clipping input data to the valid range for imshow with RGB data ([0..1] for floats or [0..255] for integers).\n"
     ]
    },
    {
     "name": "stdout",
     "output_type": "stream",
     "text": [
      "0.1794903590002832\n"
     ]
    },
    {
     "name": "stderr",
     "output_type": "stream",
     "text": [
      "Clipping input data to the valid range for imshow with RGB data ([0..1] for floats or [0..255] for integers).\n"
     ]
    },
    {
     "name": "stdout",
     "output_type": "stream",
     "text": [
      "1.3703230170003735\n",
      "banner_07\n"
     ]
    },
    {
     "name": "stderr",
     "output_type": "stream",
     "text": [
      "100%|██████████████████████████████████████████████████████████████████████████████████████████████████████████████████████████████████████████████████████████████████████████████| 10/10 [00:21<00:00,  2.10s/it]\n",
      "Clipping input data to the valid range for imshow with RGB data ([0..1] for floats or [0..255] for integers).\n"
     ]
    },
    {
     "name": "stdout",
     "output_type": "stream",
     "text": [
      "22.55971713200006\n"
     ]
    },
    {
     "name": "stderr",
     "output_type": "stream",
     "text": [
      "100%|██████████████████████████████████████████████████████████████████████████████████████████████████████████████████████████████████████████████████████████████████████████████| 10/10 [00:22<00:00,  2.23s/it]\n",
      "Clipping input data to the valid range for imshow with RGB data ([0..1] for floats or [0..255] for integers).\n"
     ]
    },
    {
     "name": "stdout",
     "output_type": "stream",
     "text": [
      "25.059749094999916\n"
     ]
    },
    {
     "name": "stderr",
     "output_type": "stream",
     "text": [
      "Clipping input data to the valid range for imshow with RGB data ([0..1] for floats or [0..255] for integers).\n"
     ]
    },
    {
     "name": "stdout",
     "output_type": "stream",
     "text": [
      "1.800671419000082\n"
     ]
    },
    {
     "name": "stderr",
     "output_type": "stream",
     "text": [
      "Clipping input data to the valid range for imshow with RGB data ([0..1] for floats or [0..255] for integers).\n"
     ]
    },
    {
     "name": "stdout",
     "output_type": "stream",
     "text": [
      "0.6348654230000648\n"
     ]
    },
    {
     "name": "stderr",
     "output_type": "stream",
     "text": [
      "Clipping input data to the valid range for imshow with RGB data ([0..1] for floats or [0..255] for integers).\n"
     ]
    },
    {
     "name": "stdout",
     "output_type": "stream",
     "text": [
      "3.4458577270002024\n"
     ]
    },
    {
     "data": {
      "image/png": "[encoded data removed]",
      "text/plain": [
       "<Figure size 432x288 with 1 Axes>"
      ]
     },
     "metadata": {
      "needs_background": "light"
     },
     "output_type": "display_data"
    }
   ],
   "source": [
    "N_PARTICLES = 4\n",
    "WEIGHT_POPULATION = False\n",
    "AVG_CHAIN = True\n",
    "STEPS = 10    \n",
    "    \n",
    "trg_dir = Path('../isir_results')\n",
    "trg_dir.mkdir(exist_ok=True)\n",
    "for path in Path(root_path, \"scenes\").glob('*'):\n",
    "    if path.stem in ('teapot', 'dragon', 'veach-ajar'):\n",
    "        continue\n",
    "    print(path.stem)\n",
    "    try:\n",
    "        scene = mi.load_file(Path(path, \"scene.xml\").as_posix())\n",
    "    except:\n",
    "        continue\n",
    "    \n",
    "    props = mi.Properties()\n",
    "    props['emitter_samples'] = STEPS\n",
    "    props['bsdf_samples'] = 0\n",
    "\n",
    "    integrator = ISIRIntegrator(props, n_particles=N_PARTICLES, weight_population=False, avg_chain=False)\n",
    "\n",
    "    start = time.perf_counter()\n",
    "    img_scene = mi.render(scene, integrator=integrator, spp=1)\n",
    "    x = mi.Bitmap(img_scene)\n",
    "    elapsed = time.perf_counter() - start\n",
    "    print(elapsed)\n",
    "    \n",
    "    \n",
    "    plt.imshow(np.array(x) ** (1. / 2.2))\n",
    "    plt.axis(\"off\")\n",
    "    plt.savefig(Path(trg_dir, f'{path.stem}_isir_{N_PARTICLES}p_{STEPS}s.png'))\n",
    "    \n",
    "    \n",
    "    props = mi.Properties()\n",
    "    props['emitter_samples'] = STEPS\n",
    "    props['bsdf_samples'] = 0\n",
    "\n",
    "    integrator = ISIRIntegrator(props, n_particles=N_PARTICLES, weight_population=False, avg_chain=True)\n",
    "\n",
    "    start = time.perf_counter()\n",
    "    img_scene = mi.render(scene, integrator=integrator, spp=1)\n",
    "    x = mi.Bitmap(img_scene)\n",
    "    elapsed = time.perf_counter() - start\n",
    "    print(elapsed)\n",
    "    \n",
    "    \n",
    "    plt.imshow(np.array(x) ** (1. / 2.2))\n",
    "    plt.axis(\"off\")\n",
    "    plt.savefig(Path(trg_dir, f'{path.stem}_isir_{N_PARTICLES}p_{STEPS}s_avg.png'))\n",
    "    \n",
    "    \n",
    "    props = mi.Properties()\n",
    "    props['emitter_samples'] = STEPS * N_PARTICLES\n",
    "    props['bsdf_samples'] = 0\n",
    "\n",
    "    integrator = RISIntegrator(props)\n",
    "\n",
    "    start = time.perf_counter()\n",
    "    img_scene = mi.render(scene, integrator=integrator, spp=1)\n",
    "    x = mi.Bitmap(img_scene)\n",
    "    elapsed = time.perf_counter() - start\n",
    "    print(elapsed)\n",
    "\n",
    "    plt.imshow(np.array(x) ** (1. / 2.2))\n",
    "    plt.axis(\"off\")\n",
    "    plt.savefig(Path(trg_dir, f'{path.stem}_ris_{STEPS * N_PARTICLES}s.png'))\n",
    "    \n",
    "    props = mi.Properties()\n",
    "    props['emitter_samples'] = STEPS\n",
    "    props['bsdf_samples'] = 0\n",
    "\n",
    "    integrator = RISIntegrator(props)\n",
    "\n",
    "    start = time.perf_counter()\n",
    "    img_scene = mi.render(scene, integrator=integrator, spp=1)\n",
    "    x = mi.Bitmap(img_scene)\n",
    "    elapsed = time.perf_counter() - start\n",
    "    print(elapsed)\n",
    "\n",
    "    plt.imshow(np.array(x) ** (1. / 2.2))\n",
    "    plt.axis(\"off\")\n",
    "    plt.savefig(Path(trg_dir, f'{path.stem}_ris_{STEPS}s.png'))\n",
    "    \n",
    "    props = mi.Properties()\n",
    "    props['emitter_samples'] = STEPS\n",
    "    props['bsdf_samples'] = 0\n",
    "\n",
    "    integrator = RISIntegrator(props)\n",
    "\n",
    "    start = time.perf_counter()\n",
    "    img_scene = mi.render(scene, integrator=integrator, spp=STEPS)\n",
    "    x = mi.Bitmap(img_scene)\n",
    "    elapsed = time.perf_counter() - start\n",
    "    print(elapsed)\n",
    "\n",
    "    plt.imshow(np.array(x) ** (1. / 2.2))\n",
    "    plt.axis(\"off\")\n",
    "    plt.savefig(Path(trg_dir, f'{path.stem}_ris_{STEPS}s_{STEPS}spp.png'))\n",
    "    plt.close()"
   ]
  },
  {
   "cell_type": "code",
   "execution_count": 4,
   "metadata": {},
   "outputs": [],
   "source": [
    "# props = mi.Properties()\n",
    "# props['emitter_samples'] = 4 #0\n",
    "# props['bsdf_samples'] = 0\n",
    "\n",
    "# N_PARTICLES = 4\n",
    "# WEIGHT_POPULATION = False #True\n",
    "# AVG_CHAIN = True\n",
    "\n",
    "# integrator = ISIRIntegrator(props, n_particles=N_PARTICLES, weight_population=WEIGHT_POPULATION, avg_chain=AVG_CHAIN)"
   ]
  },
  {
   "cell_type": "code",
   "execution_count": 5,
   "metadata": {},
   "outputs": [],
   "source": [
    "# start = time.perf_counter()\n",
    "\n",
    "# img_scene = mi.render(scene, integrator=integrator, spp=10)\n",
    "\n",
    "# elapsed = time.perf_counter() - start\n",
    "# print(elapsed)"
   ]
  },
  {
   "cell_type": "code",
   "execution_count": 6,
   "metadata": {},
   "outputs": [],
   "source": [
    "# mi.Bitmap(img_scene)"
   ]
  },
  {
   "cell_type": "code",
   "execution_count": 7,
   "metadata": {},
   "outputs": [],
   "source": [
    "# x = mi.Bitmap(img_scene)"
   ]
  },
  {
   "cell_type": "code",
   "execution_count": 8,
   "metadata": {},
   "outputs": [],
   "source": [
    "# plt.imshow(np.array(x) ** (1. / 2.2))"
   ]
  },
  {
   "cell_type": "code",
   "execution_count": 9,
   "metadata": {},
   "outputs": [],
   "source": [
    "# props = mi.Properties()\n",
    "# props['emitter_samples'] = 10\n",
    "\n",
    "# props['bsdf_samples'] = 0\n",
    "\n",
    "# N_PARTICLES = 1 #10\n",
    "# WEIGHT_POPULATION = False #True\n",
    "# AVG_CHAIN = False #True\n",
    "\n",
    "# integrator = RISIntegrator(props) #, n_particles=N_PARTICLES, weight_population=WEIGHT_POPULATION, avg_chain=AVG_CHAIN)\n",
    "\n",
    "# start = time.perf_counter()\n",
    "\n",
    "# img_scene = mi.render(scene, integrator=integrator, spp=10)\n",
    "\n",
    "# elapsed = time.perf_counter() - start\n",
    "# print(elapsed)\n",
    "\n",
    "# mi.Bitmap(img_scene)"
   ]
  },
  {
   "cell_type": "code",
   "execution_count": null,
   "metadata": {},
   "outputs": [],
   "source": []
  },
  {
   "cell_type": "code",
   "execution_count": null,
   "metadata": {},
   "outputs": [],
   "source": []
  }
 ],
 "metadata": {
  "kernelspec": {
   "display_name": "Python 3.8.0 ('mitsuba')",
   "language": "python",
   "name": "python3"
  },
  "language_info": {
   "codemirror_mode": {
    "name": "ipython",
    "version": 3
   },
   "file_extension": ".py",
   "mimetype": "text/x-python",
   "name": "python",
   "nbconvert_exporter": "python",
   "pygments_lexer": "ipython3",
   "version": "3.8.0"
  },
  "vscode": {
   "interpreter": {
    "hash": "fa5511f57893cf02f81263c929721793a78ece64a39935acd3cf636c53ed1e11"
   }
  }
 },
 "nbformat": 4,
 "nbformat_minor": 2
}
