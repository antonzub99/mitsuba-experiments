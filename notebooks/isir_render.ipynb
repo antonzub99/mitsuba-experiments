{
 "cells": [
  {
   "cell_type": "code",
   "execution_count": 1,
   "metadata": {},
   "outputs": [
    {
     "name": "stdout",
     "output_type": "stream",
     "text": [
      "['scalar_rgb', 'scalar_spectral', 'cuda_ad_rgb', 'llvm_ad_rgb']\n"
     ]
    }
   ],
   "source": [
    "%load_ext autoreload\n",
    "%autoreload 2\n",
    "\n",
    "from pathlib import Path\n",
    "import os\n",
    "import sys\n",
    "import numpy as np\n",
    "import matplotlib.pyplot as plt\n",
    "import time\n",
    "\n",
    "import mitsuba as mi\n",
    "import drjit as dr\n",
    "\n",
    "print(mi.variants())\n",
    "os.environ['VARIANT'] = 'llvm_ad_rgb'\n",
    "\n",
    "sys.path.append('..')\n",
    "\n",
    "from ris_render.integrators.isir_integrator import ISIRIntegrator\n",
    "from ris_render.integrators.custom_direct import RISIntegrator"
   ]
  },
  {
   "cell_type": "code",
   "execution_count": 2,
   "metadata": {},
   "outputs": [],
   "source": [
    "root_path = Path().cwd().parent"
   ]
  },
  {
   "cell_type": "code",
   "execution_count": 3,
   "metadata": {},
   "outputs": [],
   "source": [
    "scene = mi.load_file(Path(root_path, \"scenes/staircase/scene.xml\").as_posix())\n",
    "#scene = mi.load_file(Path(root_path, \"scenes/dragon/scene.xml\").as_posix())\n",
    "#scene = mi.load_dict(mi.cornell_box())"
   ]
  },
  {
   "cell_type": "code",
   "execution_count": 4,
   "metadata": {},
   "outputs": [
    {
     "name": "stderr",
     "output_type": "stream",
     "text": [
      "../ris_render/integrators/isir_integrator.py:52: UserWarning: BSDF sampler is not implemented, setting 'bsdf_samples' to 0.\n",
      "  warnings.warn(\"BSDF sampler is not implemented, setting 'bsdf_samples' to 0.\")\n"
     ]
    }
   ],
   "source": [
    "props = mi.Properties()\n",
    "props['emitter_samples'] = 10\n",
    "props['bsdf_samples'] = 0\n",
    "\n",
    "N_PARTICLES = 3\n",
    "WEIGHT_POPULATION = False #True\n",
    "AVG_CHAIN = False #True\n",
    "\n",
    "integrator = ISIRIntegrator(props, n_particles=N_PARTICLES, weight_population=WEIGHT_POPULATION, avg_chain=AVG_CHAIN)"
   ]
  },
  {
   "cell_type": "code",
   "execution_count": 5,
   "metadata": {},
   "outputs": [],
   "source": [
    "# props = mi.Properties()\n",
    "# props['emitter_samples'] = 10\n",
    "# props['bsdf_samples'] = 0\n",
    "\n",
    "# N_PARTICLES = 4 #10\n",
    "# WEIGHT_POPULATION = False #True\n",
    "# AVG_CHAIN = False #True\n",
    "\n",
    "# integrator = RISIntegrator(props) #, n_particles=N_PARTICLES, weight_population=WEIGHT_POPULATION, avg_chain=AVG_CHAIN)"
   ]
  },
  {
   "cell_type": "code",
   "execution_count": null,
   "metadata": {},
   "outputs": [
    {
     "name": "stderr",
     "output_type": "stream",
     "text": [
      " 70%|██████████████████████████████████████████████████████████████████████████████████████████████████████████████████████████▍                                                    | 7/10 [00:17<00:06,  2.27s/it]"
     ]
    }
   ],
   "source": [
    "start = time.perf_counter()\n",
    "\n",
    "img_scene = mi.render(scene, integrator=integrator, spp=1)\n",
    "\n",
    "elapsed = time.perf_counter() - start\n",
    "print(elapsed)"
   ]
  },
  {
   "cell_type": "code",
   "execution_count": null,
   "metadata": {},
   "outputs": [],
   "source": [
    "mi.Bitmap(img_scene)"
   ]
  },
  {
   "cell_type": "code",
   "execution_count": null,
   "metadata": {},
   "outputs": [],
   "source": []
  },
  {
   "cell_type": "code",
   "execution_count": null,
   "metadata": {},
   "outputs": [],
   "source": []
  },
  {
   "cell_type": "code",
   "execution_count": null,
   "metadata": {},
   "outputs": [],
   "source": []
  },
  {
   "cell_type": "code",
   "execution_count": null,
   "metadata": {},
   "outputs": [],
   "source": []
  }
 ],
 "metadata": {
  "kernelspec": {
   "display_name": "mitsuba1",
   "language": "python",
   "name": "mitsuba1"
  },
  "language_info": {
   "codemirror_mode": {
    "name": "ipython",
    "version": 3
   },
   "file_extension": ".py",
   "mimetype": "text/x-python",
   "name": "python",
   "nbconvert_exporter": "python",
   "pygments_lexer": "ipython3",
   "version": "3.8.0"
  },
  "vscode": {
   "interpreter": {
    "hash": "fa5511f57893cf02f81263c929721793a78ece64a39935acd3cf636c53ed1e11"
   }
  }
 },
 "nbformat": 4,
 "nbformat_minor": 2
}
