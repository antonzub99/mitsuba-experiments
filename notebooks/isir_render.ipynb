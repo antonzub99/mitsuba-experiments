{
 "cells": [
  {
   "cell_type": "code",
   "execution_count": 1,
   "metadata": {},
   "outputs": [
    {
     "name": "stdout",
     "output_type": "stream",
     "text": [
      "['scalar_rgb', 'scalar_spectral', 'cuda_ad_rgb', 'llvm_ad_rgb']\n"
     ]
    }
   ],
   "source": [
    "%load_ext autoreload\n",
    "%autoreload 2\n",
    "\n",
    "from pathlib import Path\n",
    "import os\n",
    "import sys\n",
    "import numpy as np\n",
    "import matplotlib.pyplot as plt\n",
    "import time\n",
    "\n",
    "import mitsuba as mi\n",
    "import drjit as dr\n",
    "\n",
    "print(mi.variants())\n",
    "os.environ['VARIANT'] = 'llvm_ad_rgb'\n",
    "\n",
    "sys.path.append('..')\n",
    "\n",
    "from ris_render.integrators.isir_integrator import ISIRIntegrator\n",
    "from ris_render.integrators.custom_direct import RISIntegrator"
   ]
  },
  {
   "cell_type": "code",
   "execution_count": 2,
   "metadata": {},
   "outputs": [],
   "source": [
    "root_path = Path().cwd().parent"
   ]
  },
  {
   "cell_type": "code",
   "execution_count": 3,
   "metadata": {},
   "outputs": [],
   "source": [
    "from ris_render.integrators.control_variate import PolyControlVariate"
   ]
  },
  {
   "cell_type": "code",
   "execution_count": null,
   "metadata": {
    "scrolled": false
   },
   "outputs": [
    {
     "name": "stdout",
     "output_type": "stream",
     "text": [
      "veach-mis\n"
     ]
    },
    {
     "name": "stderr",
     "output_type": "stream",
     "text": [
      "\r",
      "  0%|                                                                                                                                                                                       | 0/10 [00:00<?, ?it/s]"
     ]
    }
   ],
   "source": [
    "N_PARTICLES = 5\n",
    "WEIGHT_POPULATION = False\n",
    "AVG_CHAIN = True\n",
    "STEPS = 10 #20\n",
    "    \n",
    "trg_dir = Path('../isir_results')\n",
    "trg_dir.mkdir(exist_ok=True)\n",
    "for path in Path(root_path, \"scenes\").glob('*'):\n",
    "    if path.stem in ('teapot', 'dragon', 'veach-ajar'):\n",
    "        continue\n",
    "    print(path.stem)\n",
    "    try:\n",
    "        scene = mi.load_file(Path(path, \"scene.xml\").as_posix())\n",
    "    except:\n",
    "        continue\n",
    "    wavefront_size = np.prod(mi.traverse(scene)['PerspectiveCamera.film.size'])\n",
    "    \n",
    "    props = mi.Properties()\n",
    "    props['emitter_samples'] = STEPS\n",
    "    props['bsdf_samples'] = 0\n",
    "\n",
    "    cv = PolyControlVariate(wavefront_size, 2, 1)\n",
    "    integrator = ISIRIntegrator(props, n_particles=N_PARTICLES, weight_population=WEIGHT_POPULATION, avg_chain=AVG_CHAIN, cv=cv)\n",
    "    \n",
    "    start = time.perf_counter()\n",
    "    img_scene = mi.render(scene, integrator=integrator, spp=1)\n",
    "    \n",
    "    x = mi.Bitmap(img_scene)\n",
    "    elapsed = time.perf_counter() - start\n",
    "    print(elapsed)\n",
    "    \n",
    "    \n",
    "    plt.imshow(np.array(x) ** (1. / 2.2))\n",
    "    plt.axis(\"off\")\n",
    "    plt.savefig(Path(trg_dir, f'{path.stem}_isir_{N_PARTICLES}p_{STEPS}s.png'))\n",
    "    \n",
    "    \n",
    "    # props = mi.Properties()\n",
    "    # props['emitter_samples'] = STEPS\n",
    "    # props['bsdf_samples'] = 0\n",
    "\n",
    "    # integrator = ISIRIntegrator(props, n_particles=N_PARTICLES, weight_population=False, avg_chain=True)\n",
    "\n",
    "    # start = time.perf_counter()\n",
    "    # img_scene = mi.render(scene, integrator=integrator, spp=1)\n",
    "    # x = mi.Bitmap(img_scene)\n",
    "    # elapsed = time.perf_counter() - start\n",
    "    # print(elapsed)\n",
    "    \n",
    "    \n",
    "    # plt.imshow(np.array(x) ** (1. / 2.2))\n",
    "    # plt.axis(\"off\")\n",
    "    # plt.savefig(Path(trg_dir, f'{path.stem}_isir_{N_PARTICLES}p_{STEPS}s_avg.png'))\n",
    "    \n",
    "    \n",
    "    # props = mi.Properties()\n",
    "    # props['emitter_samples'] = STEPS\n",
    "    # props['bsdf_samples'] = 0\n",
    "\n",
    "    # integrator = ISIRIntegrator(props, n_particles=N_PARTICLES, weight_population=True, avg_chain=True)\n",
    "\n",
    "    # start = time.perf_counter()\n",
    "    # img_scene = mi.render(scene, integrator=integrator, spp=1)\n",
    "    # x = mi.Bitmap(img_scene)\n",
    "    # elapsed = time.perf_counter() - start\n",
    "    # print(elapsed)\n",
    "    \n",
    "    \n",
    "    # plt.imshow(np.array(x) ** (1. / 2.2))\n",
    "    # plt.axis(\"off\")\n",
    "    # plt.savefig(Path(trg_dir, f'{path.stem}_isir_{N_PARTICLES}p_{STEPS}s_avg_rao.png'))\n",
    "    \n",
    "    \n",
    "#     props = mi.Properties()\n",
    "#     props['emitter_samples'] = STEPS * N_PARTICLES\n",
    "#     props['bsdf_samples'] = 0\n",
    "\n",
    "#     integrator = RISIntegrator(props)\n",
    "\n",
    "#     start = time.perf_counter()\n",
    "#     img_scene = mi.render(scene, integrator=integrator, spp=1)\n",
    "#     x = mi.Bitmap(img_scene)\n",
    "#     elapsed = time.perf_counter() - start\n",
    "#     print(elapsed)\n",
    "\n",
    "#     plt.imshow(np.array(x) ** (1. / 2.2))\n",
    "#     plt.axis(\"off\")\n",
    "#     plt.savefig(Path(trg_dir, f'{path.stem}_ris_{STEPS * N_PARTICLES}s.png'))\n",
    "    \n",
    "#     props = mi.Properties()\n",
    "#     props['emitter_samples'] = STEPS\n",
    "#     props['bsdf_samples'] = 0\n",
    "\n",
    "#     integrator = RISIntegrator(props)\n",
    "\n",
    "#     start = time.perf_counter()\n",
    "#     img_scene = mi.render(scene, integrator=integrator, spp=1)\n",
    "#     x = mi.Bitmap(img_scene)\n",
    "#     elapsed = time.perf_counter() - start\n",
    "#     print(elapsed)\n",
    "\n",
    "#     plt.imshow(np.array(x) ** (1. / 2.2))\n",
    "#     plt.axis(\"off\")\n",
    "#     plt.savefig(Path(trg_dir, f'{path.stem}_ris_{STEPS}s.png'))\n",
    "    \n",
    "#     props = mi.Properties()\n",
    "#     props['emitter_samples'] = STEPS\n",
    "#     props['bsdf_samples'] = 0\n",
    "\n",
    "#     integrator = RISIntegrator(props)\n",
    "\n",
    "#     start = time.perf_counter()\n",
    "#     img_scene = mi.render(scene, integrator=integrator, spp=STEPS)\n",
    "#     x = mi.Bitmap(img_scene)\n",
    "#     elapsed = time.perf_counter() - start\n",
    "#     print(elapsed)\n",
    "\n",
    "#     plt.imshow(np.array(x) ** (1. / 2.2))\n",
    "#     plt.axis(\"off\")\n",
    "#     plt.savefig(Path(trg_dir, f'{path.stem}_ris_{STEPS}s_{STEPS}spp.png'))\n",
    "#     plt.close()\n",
    "\n",
    "    break"
   ]
  },
  {
   "cell_type": "code",
   "execution_count": null,
   "metadata": {},
   "outputs": [],
   "source": [
    "# props = mi.Properties()\n",
    "# props['emitter_samples'] = 4 #0\n",
    "# props['bsdf_samples'] = 0\n",
    "\n",
    "# N_PARTICLES = 4\n",
    "# WEIGHT_POPULATION = False #True\n",
    "# AVG_CHAIN = True\n",
    "\n",
    "# integrator = ISIRIntegrator(props, n_particles=N_PARTICLES, weight_population=WEIGHT_POPULATION, avg_chain=AVG_CHAIN)"
   ]
  },
  {
   "cell_type": "code",
   "execution_count": 37,
   "metadata": {},
   "outputs": [
    {
     "data": {
      "text/plain": [
       "[[0.0, 0.0, 0.0],\n",
       " [0.0, 0.0, 0.0],\n",
       " [0.0, 0.0, 0.0],\n",
       " [0.0, 0.0, 0.0],\n",
       " [0.0, 0.0, 0.0],\n",
       " .. 35 skipped ..,\n",
       " [0.0, 0.0, 0.0],\n",
       " [0.0, 0.0, 0.0],\n",
       " [0.0, 0.0, 0.0],\n",
       " [0.0, 0.0, 0.0],\n",
       " [0.0, 0.0, 0.0]]"
      ]
     },
     "execution_count": 37,
     "metadata": {},
     "output_type": "execute_result"
    }
   ],
   "source": [
    "mi.Color3f(np.zeros((45, 3)))"
   ]
  },
  {
   "cell_type": "code",
   "execution_count": 5,
   "metadata": {},
   "outputs": [],
   "source": [
    "# start = time.perf_counter()\n",
    "\n",
    "# img_scene = mi.render(scene, integrator=integrator, spp=10)\n",
    "\n",
    "# elapsed = time.perf_counter() - start\n",
    "# print(elapsed)"
   ]
  },
  {
   "cell_type": "code",
   "execution_count": 6,
   "metadata": {},
   "outputs": [],
   "source": [
    "# mi.Bitmap(img_scene)"
   ]
  },
  {
   "cell_type": "code",
   "execution_count": 7,
   "metadata": {},
   "outputs": [],
   "source": [
    "# x = mi.Bitmap(img_scene)"
   ]
  },
  {
   "cell_type": "code",
   "execution_count": 8,
   "metadata": {},
   "outputs": [],
   "source": [
    "# plt.imshow(np.array(x) ** (1. / 2.2))"
   ]
  },
  {
   "cell_type": "code",
   "execution_count": 9,
   "metadata": {},
   "outputs": [],
   "source": [
    "# props = mi.Properties()\n",
    "# props['emitter_samples'] = 10\n",
    "\n",
    "# props['bsdf_samples'] = 0\n",
    "\n",
    "# N_PARTICLES = 1 #10\n",
    "# WEIGHT_POPULATION = False #True\n",
    "# AVG_CHAIN = False #True\n",
    "\n",
    "# integrator = RISIntegrator(props) #, n_particles=N_PARTICLES, weight_population=WEIGHT_POPULATION, avg_chain=AVG_CHAIN)\n",
    "\n",
    "# start = time.perf_counter()\n",
    "\n",
    "# img_scene = mi.render(scene, integrator=integrator, spp=10)\n",
    "\n",
    "# elapsed = time.perf_counter() - start\n",
    "# print(elapsed)\n",
    "\n",
    "# mi.Bitmap(img_scene)"
   ]
  },
  {
   "cell_type": "code",
   "execution_count": null,
   "metadata": {},
   "outputs": [],
   "source": []
  },
  {
   "cell_type": "code",
   "execution_count": null,
   "metadata": {},
   "outputs": [],
   "source": []
  }
 ],
 "metadata": {
  "kernelspec": {
   "display_name": "mitsuba1",
   "language": "python",
   "name": "mitsuba1"
  },
  "language_info": {
   "codemirror_mode": {
    "name": "ipython",
    "version": 3
   },
   "file_extension": ".py",
   "mimetype": "text/x-python",
   "name": "python",
   "nbconvert_exporter": "python",
   "pygments_lexer": "ipython3",
   "version": "3.8.0"
  },
  "vscode": {
   "interpreter": {
    "hash": "fa5511f57893cf02f81263c929721793a78ece64a39935acd3cf636c53ed1e11"
   }
  }
 },
 "nbformat": 4,
 "nbformat_minor": 2
}
