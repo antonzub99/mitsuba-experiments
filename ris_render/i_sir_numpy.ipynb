{
 "cells": [
  {
   "cell_type": "code",
   "execution_count": 361,
   "id": "54094667",
   "metadata": {},
   "outputs": [],
   "source": [
    "import numpy as np\n",
    "import tqdm\n",
    "from numpy.random import default_rng\n",
    "from scipy.stats import multivariate_normal\n",
    "from scipy.special import logsumexp\n",
    "import matplotlib.pyplot as plt"
   ]
  },
  {
   "cell_type": "code",
   "execution_count": 362,
   "id": "c7627fc9",
   "metadata": {},
   "outputs": [],
   "source": [
    "class MulNormal:\n",
    "    def __init__(self,\n",
    "                 mean = [0, 0],\n",
    "                 cov = [[1, 0], [0, 1]],\n",
    "                 seed = 42\n",
    "                 ):\n",
    "        self.mean = mean\n",
    "        self.cov = cov\n",
    "        self.rng = default_rng(seed)\n",
    "    \n",
    "    def sample(self, size):\n",
    "        return self.rng.multivariate_normal(self.mean, self.cov, size)\n",
    "    \n",
    "    def calc_loglikelihood(self, residuals):\n",
    "        return -0.5 * (np.log(np.linalg.det(self.cov)) + residuals.T.dot(np.linalg.inv(self.cov)).dot(residuals) + 2 * np.log(2 * np.pi))\n",
    "    \n",
    "    def log_prob(self, x):\n",
    "        residuals = (x - self.mean)\n",
    "\n",
    "        return -0.5 * (np.sum(residuals.T * np.dot(np.linalg.inv(self.cov),residuals.T),axis=0) - np.log(np.linalg.det(self.cov)) + 2 * np.log(2 * np.pi))"
   ]
  },
  {
   "cell_type": "code",
   "execution_count": 363,
   "id": "0f642a99",
   "metadata": {},
   "outputs": [],
   "source": [
    "class Categorical_np:\n",
    "    def __init__(self,\n",
    "                 logits):\n",
    "        self.probs = np.exp(logits)\n",
    "        denom = np.sum(self.probs, axis=-1, keepdims=True)\n",
    "        self.probs /= denom\n",
    "    \n",
    "    def sample(self):\n",
    "        return np.argmax(np.apply_along_axis(lambda x: np.random.multinomial(1, pvals=x), axis=-1, arr=self.probs), -1)"
   ]
  },
  {
   "cell_type": "code",
   "execution_count": 364,
   "id": "6fa9bd87",
   "metadata": {},
   "outputs": [],
   "source": [
    "seed = 42\n",
    "np.random.seed(42)\n",
    "device = 'cpu'\n",
    "\n",
    "#initialize dimension\n",
    "dim = 10\n",
    "#init scaling parameter for the density\n",
    "a = 4.0\n",
    "#standard deviations for the cluster centers\n",
    "sigma = 1.0\n",
    "\n",
    "#initialize centers of the clusters\n",
    "center_pts = (np.random.rand(3,dim)-0.5)\n",
    "\n",
    "locs = a*np.array([center_pts[0,0:(dim-2)].tolist() + [0.0, 1.0], \\\n",
    "                          center_pts[1,0:(dim-2)].tolist() + [np.sqrt(3)/2,-0.5], \\\n",
    "                          center_pts[2,0:(dim-2)].tolist()+ [-np.sqrt(3)/2,-0.5]])\n",
    "covs = sigma*np.tile(np.eye(dim)[np.newaxis, ...], (3, 1, 1))\n",
    "#normalized weights of the mixture\n",
    "weights = np.array([1., 1., 1.])\n",
    "weights /= weights.sum()\n",
    "#create Gaussian densities with different centers\n",
    "gaussians = [MulNormal(loc, cov) for loc, cov in zip(locs, covs)]"
   ]
  },
  {
   "cell_type": "code",
   "execution_count": 365,
   "id": "4533a129",
   "metadata": {},
   "outputs": [],
   "source": [
    "def log_prob(x):\n",
    "        \"\"\"\n",
    "        Returns:\n",
    "            log p(x)\n",
    "        \"\"\"\n",
    "        log_ps = np.stack([\n",
    "            np.log(weight) + gauss.log_prob(x) for weight, gauss in zip(weights, gaussians)\n",
    "            ], axis=0)\n",
    "#         return np.log(np.sum(np.exp(log_ps), 0))\n",
    "        return logsumexp(log_ps, 0)"
   ]
  },
  {
   "cell_type": "code",
   "execution_count": 366,
   "id": "56021db8",
   "metadata": {},
   "outputs": [],
   "source": [
    "# I-SIR\n",
    "\n",
    "def i_sir_step(log_target_dens, x_cur, N_part, isir_proposal, return_all_stats=False):\n",
    "    \"\"\"\n",
    "    function to sample with N-particles version of i-SIR\n",
    "    args:\n",
    "        N_part - number of particles, integer;\n",
    "        x0 - current i-sir particle;\n",
    "    return:\n",
    "        x_next - selected i-sir particle\n",
    "    \"\"\"\n",
    "    N_samples, lat_size = x_cur.shape\n",
    "    \n",
    "    # generate proposals\n",
    "    proposals = isir_proposal.sample((N_samples, N_part - 1, ))\n",
    "\n",
    "    # put current particles\n",
    "    proposals = np.concatenate((x_cur[:, np.newaxis, :], proposals), axis=1)\n",
    "\n",
    "    # compute importance weights\n",
    "    log_target_dens_proposals = log_target_dens(proposals.reshape(-1, lat_size)).reshape(N_samples, N_part)\n",
    "    \n",
    "    logw = log_target_dens_proposals - isir_proposal.log_prob(proposals.reshape(-1, lat_size)).reshape(N_samples, N_part)\n",
    "    \n",
    "    #sample selected particle indexes\n",
    "    idxs = Categorical_np(logits=logw).sample()\n",
    "\n",
    "    cur_x = proposals[np.arange(N_samples), idxs]\n",
    "    \n",
    "    if return_all_stats:\n",
    "        return cur_x, proposals, log_target_dens_proposals\n",
    "    else:\n",
    "        return cur_x\n",
    "\n",
    "def i_sir(log_target_dens, x0, N_steps, N_part, isir_proposal, seed=42):\n",
    "    np.random.seed(seed)\n",
    "    ### sample i-sir\n",
    "\n",
    "    samples_traj = [x0]\n",
    "    x_cur = x0\n",
    "    \n",
    "    for _ in tqdm.tqdm(range(N_steps)):\n",
    "        x_cur = i_sir_step(log_target_dens, x_cur, N_part, isir_proposal)\n",
    "        samples_traj.append(x_cur)\n",
    "\n",
    "    samples_traj = np.stack(samples_traj).transpose(1, 0, 2)\n",
    "    \n",
    "    return samples_traj"
   ]
  },
  {
   "cell_type": "code",
   "execution_count": 367,
   "id": "abd24077",
   "metadata": {},
   "outputs": [
    {
     "name": "stderr",
     "output_type": "stream",
     "text": [
      "100%|████████████████████████████████████████████████████████████████████████████| 1000/1000 [00:00<00:00, 1279.67it/s]\n"
     ]
    }
   ],
   "source": [
    "N_traj = 5\n",
    "#init starting points \n",
    "x0 = np.random.randn(N_traj, dim)\n",
    "\n",
    "N_steps = 1000\n",
    "N_part = 200\n",
    "sigma_isir = 4.0\n",
    "\n",
    "#choose proposal for i-SIR algorithm\n",
    "isir_proposal = MulNormal(\n",
    "    np.zeros(dim), (sigma_isir ** 2) * np.eye(dim)\n",
    ")\n",
    "\n",
    "#run i-SIR\n",
    "Samples_isir = i_sir(log_prob, x0, N_steps, N_part, isir_proposal, seed=42)"
   ]
  },
  {
   "cell_type": "code",
   "execution_count": 368,
   "id": "42d421e5",
   "metadata": {},
   "outputs": [
    {
     "data": {
      "text/plain": [
       "(5, 1001, 10)"
      ]
     },
     "execution_count": 368,
     "metadata": {},
     "output_type": "execute_result"
    }
   ],
   "source": [
    "Samples_isir.shape"
   ]
  },
  {
   "cell_type": "code",
   "execution_count": 369,
   "id": "48e96595",
   "metadata": {},
   "outputs": [
    {
     "data": {
      "image/png": "[encoded data removed]",
      "text/plain": [
       "<Figure size 432x288 with 2 Axes>"
      ]
     },
     "metadata": {
      "needs_background": "light"
     },
     "output_type": "display_data"
    }
   ],
   "source": [
    "x = np.linspace(-2*a, 2*a, 100)\n",
    "y = np.linspace(-2*a, 2*a, 100)\n",
    "X, Y = np.meshgrid(x, y)\n",
    "#stack the two\n",
    "inp = np.stack([X, Y], -1)\n",
    "proj_slice = [-2, -1]\n",
    "\n",
    "#project onto the last 2 coordinates\n",
    "loc_gaussians = [MulNormal(loc[proj_slice], cov[proj_slice, :][:, proj_slice]) for loc, cov in zip(locs, covs)]\n",
    "log_ps = np.stack([\n",
    "    np.log(weight) + gauss.log_prob(inp.reshape(-1, 2)) for weight, gauss in zip(weights, loc_gaussians)\n",
    "], axis=0)\n",
    "dens_vals = np.log(np.sum(np.exp(log_ps), 0)).reshape(inp.shape[:-1])\n",
    "#plot density values\n",
    "fig,ax=plt.subplots(1,1)\n",
    "cp = ax.contourf(X, Y, np.exp(dens_vals))\n",
    "fig.colorbar(cp) # Add a colorbar to a plot\n",
    "#plot i-sir samples\n",
    "ax.scatter(Samples_isir[0,:,-2],Samples_isir[0,:,-1])\n",
    "ax.set_title('i_SIR samples')\n",
    "#ax.set_xlabel('x (cm)')\n",
    "ax.set_ylabel('y (cm)')\n",
    "plt.show()"
   ]
  }
 ],
 "metadata": {
  "kernelspec": {
   "display_name": "Python 3 (ipykernel)",
   "language": "python",
   "name": "python3"
  },
  "language_info": {
   "codemirror_mode": {
    "name": "ipython",
    "version": 3
   },
   "file_extension": ".py",
   "mimetype": "text/x-python",
   "name": "python",
   "nbconvert_exporter": "python",
   "pygments_lexer": "ipython3",
   "version": "3.9.12"
  }
 },
 "nbformat": 4,
 "nbformat_minor": 5
}
